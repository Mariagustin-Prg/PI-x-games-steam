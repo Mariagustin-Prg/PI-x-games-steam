{
 "cells": [
  {
   "cell_type": "code",
   "execution_count": 16,
   "metadata": {},
   "outputs": [],
   "source": [
    "import pandas as pd\n",
    "import ast\n",
    "import warnings\n",
    "warnings.filterwarnings('ignore')"
   ]
  },
  {
   "cell_type": "code",
   "execution_count": 2,
   "metadata": {},
   "outputs": [],
   "source": [
    "rows = []\n",
    "with open(\"steam_games.json\") as f:\n",
    "    for line in f.readlines():\n",
    "        rows.append(ast.literal_eval(line))\n",
    "\n",
    "df_games = pd.DataFrame(rows)"
   ]
  },
  {
   "cell_type": "code",
   "execution_count": 3,
   "metadata": {},
   "outputs": [],
   "source": [
    "df = df_games"
   ]
  },
  {
   "cell_type": "code",
   "execution_count": 4,
   "metadata": {},
   "outputs": [],
   "source": [
    "df.fillna(\"nan\", inplace= True)"
   ]
  },
  {
   "cell_type": "code",
   "execution_count": 5,
   "metadata": {},
   "outputs": [],
   "source": [
    "df_genres = df[['title','release_date','genres']]\n",
    "# df_genres.dropna(axis=0, inplace=True)\n",
    "df_genres.to_csv(\"./csv to functions/genres.csv\", index= False)"
   ]
  },
  {
   "cell_type": "code",
   "execution_count": 6,
   "metadata": {},
   "outputs": [],
   "source": [
    "df_specs = df[['title','release_date','specs']]\n",
    "# df_specs.dropna(axis = 0, inplace= True)\n",
    "df_specs.to_csv(\"./csv to functions/specs.csv\", index=False)"
   ]
  },
  {
   "cell_type": "code",
   "execution_count": 8,
   "metadata": {},
   "outputs": [],
   "source": [
    "df_earlyaccess = df[['title', 'release_date','early_access']]\n",
    "# df_earlyaccess.dropna(axis= 0, inplace= True)\n",
    "df_earlyaccess.to_csv(\"./csv to functions/early_access.csv\", index=False)"
   ]
  },
  {
   "cell_type": "code",
   "execution_count": 9,
   "metadata": {},
   "outputs": [],
   "source": [
    "df_sentiment = df[['title','release_date','sentiment']]\n",
    "df_sentiment.to_csv(\"./csv to functions/sentiments.csv\",index= False)"
   ]
  },
  {
   "cell_type": "code",
   "execution_count": 10,
   "metadata": {},
   "outputs": [],
   "source": [
    "df_meta = df[['title','release_date','metascore']]\n",
    "df_meta.to_csv(\"./csv to functions/metascore.csv\",index=False)"
   ]
  },
  {
   "cell_type": "code",
   "execution_count": 36,
   "metadata": {},
   "outputs": [],
   "source": [
    "def genres(año):\n",
    "    import itertools\n",
    "    import ast\n",
    "    _df = pd.DataFrame(pd.read_csv(\"./csv to functions/genres.csv\"))\n",
    "    \n",
    "    año = str(año)\n",
    "    lines = _df[_df['release_date'].str.contains(año, case= False ,na= False)]\n",
    "\n",
    "    transformation = []\n",
    "    for registro in lines['genres']:\n",
    "        try: \n",
    "            transformation.append(ast.literal_eval(registro))\n",
    "        except ValueError:\n",
    "            transformation.append([])\n",
    "    lines['genres'] = transformation\n",
    "\n",
    "    lista_generos = {}\n",
    "    for registro in lines['genres']:\n",
    "        for genre in registro:\n",
    "            lista_generos[f'{genre}'] = 0\n",
    "\n",
    "    for registro in lines['genres']:\n",
    "        for genre in registro:\n",
    "            lista_generos[f'{genre}'] += 1\n",
    "\n",
    "    return dict(itertools.islice(dict(sorted(lista_generos.items(), key= lambda item: item[1], reverse= True)).items(), 5))"
   ]
  },
  {
   "cell_type": "code",
   "execution_count": 37,
   "metadata": {},
   "outputs": [
    {
     "data": {
      "text/plain": [
       "{'Action': 18, 'Adventure': 8, 'Strategy': 8, 'Simulation': 7, 'Casual': 6}"
      ]
     },
     "execution_count": 37,
     "metadata": {},
     "output_type": "execute_result"
    }
   ],
   "source": [
    "genres(\"2000\")"
   ]
  },
  {
   "cell_type": "code",
   "execution_count": 13,
   "metadata": {},
   "outputs": [],
   "source": [
    "def juegos(año):\n",
    "    _df = pd.DataFrame(pd.read_csv(\"./csv to functions/genres.csv\"))\n",
    "    \n",
    "    lines = _df[_df['release_date'].str.contains(año, case= False ,na= False)]\n",
    "    lista_de_juegos = list(lines['title'])\n",
    "\n",
    "    return lista_de_juegos"
   ]
  },
  {
   "cell_type": "code",
   "execution_count": 15,
   "metadata": {},
   "outputs": [
    {
     "data": {
      "text/plain": [
       "['The Longest Journey',\n",
       " 'Unreal Tournament: Game of the Year Edition',\n",
       " 'Sacrifice',\n",
       " 'X: Tension',\n",
       " 'Fairy Tale About Father Frost, Ivan and Nastya',\n",
       " 'Pajama Sam 3: You Are What You Eat From Your Head To Your Feet',\n",
       " 'Putt-Putt® Joins the Circus',\n",
       " 'Gunship!',\n",
       " 'Toilet Tycoon',\n",
       " 'Two Family House',\n",
       " 'Ghost Dog: The Way of the Samurai',\n",
       " 'Call to Power II',\n",
       " 'Vampire: The Masquerade - Redemption',\n",
       " 'Nancy Drew®: Message in a Haunted Mansion',\n",
       " 'Beachhead 2000',\n",
       " 'Hidden &amp; Dangerous: Action Pack',\n",
       " 'Invictus: In the Shadow of Olympus',\n",
       " 'Leprechaun: In the Hood',\n",
       " 'American Psycho',\n",
       " 'Hogs of War',\n",
       " 'Ground Control Anthology',\n",
       " 'SHOGUN: Total War™ - Collection',\n",
       " 'Puzzle Station 15th Anniversary Retro Release',\n",
       " 'Atlantis 2: Beyond Atlantis',\n",
       " 'Carmageddon TDR 2000',\n",
       " 'B-17 Flying Fortress: The Mighty 8th',\n",
       " 'Spy Fox In: Hold the Mustard',\n",
       " 'Soulbringer',\n",
       " 'Earth 2150 Trilogy',\n",
       " 'Daikatana',\n",
       " 'Thief™ II: The Metal Age',\n",
       " 'Aliens versus Predator Classic 2000',\n",
       " 'MDK 2',\n",
       " 'Tachyon: The Fringe',\n",
       " 'Delta Force Land Warrior',\n",
       " 'QUAKE III: Team Arena',\n",
       " 'Hitman: Codename 47',\n",
       " 'Deus Ex: Game of the Year Edition',\n",
       " 'Ricochet',\n",
       " 'Counter-Strike']"
      ]
     },
     "execution_count": 15,
     "metadata": {},
     "output_type": "execute_result"
    }
   ],
   "source": [
    "juegos(\"2000\")"
   ]
  },
  {
   "cell_type": "code",
   "execution_count": 38,
   "metadata": {},
   "outputs": [],
   "source": [
    "def specs(año):\n",
    "    import itertools\n",
    "    _df = pd.DataFrame(pd.read_csv(\"./csv to functions/specs.csv\"))\n",
    "\n",
    "    lines = _df[_df['release_date'].str.contains(año, case= True, na= False)]\n",
    "\n",
    "    especificaciones = []\n",
    "    for registro in lines['specs']:\n",
    "        try:\n",
    "            especificaciones.append(ast.literal_eval(registro))\n",
    "        except ValueError:\n",
    "            especificaciones.append([])\n",
    "\n",
    "    dict_de_specs = {}\n",
    "    for registro in especificaciones:\n",
    "        for sp in registro:\n",
    "            dict_de_specs[f'{sp}'] = 0\n",
    "\n",
    "    for registro in especificaciones:\n",
    "        for sp in registro:\n",
    "            dict_de_specs[f'{sp}'] += 1\n",
    "\n",
    "    return dict(itertools.islice(dict(sorted(dict_de_specs.items(), key= lambda item: item[1], reverse= True)).items(), 5))"
   ]
  },
  {
   "cell_type": "code",
   "execution_count": 39,
   "metadata": {},
   "outputs": [
    {
     "data": {
      "text/plain": [
       "{'Single-player': 40,\n",
       " 'Multi-player': 15,\n",
       " 'Captions available': 7,\n",
       " 'Steam Cloud': 6,\n",
       " 'Steam Trading Cards': 5}"
      ]
     },
     "execution_count": 39,
     "metadata": {},
     "output_type": "execute_result"
    }
   ],
   "source": [
    "specs(\"2002\")"
   ]
  },
  {
   "cell_type": "code",
   "execution_count": 57,
   "metadata": {},
   "outputs": [],
   "source": [
    "def early_access(año):\n",
    "    _df = pd.DataFrame(pd.read_csv(\"./csv to functions/early_access.csv\"))\n",
    "    _df = _df[_df['release_date'].str.contains(año, case= False, na= False)]\n",
    "    lines = _df[_df['early_access'] == True]\n",
    "\n",
    "    return {\n",
    "        'Año': año,\n",
    "        'Cantidad de juegos con acceso anticipado' : lines['title'].shape[0]\n",
    "    }"
   ]
  },
  {
   "cell_type": "code",
   "execution_count": 66,
   "metadata": {},
   "outputs": [
    {
     "data": {
      "text/plain": [
       "{'Año': '2017', 'Cantidad de juegos con acceso anticipado': 733}"
      ]
     },
     "execution_count": 66,
     "metadata": {},
     "output_type": "execute_result"
    }
   ],
   "source": [
    "early_access(\"2017\")"
   ]
  },
  {
   "cell_type": "code",
   "execution_count": 117,
   "metadata": {},
   "outputs": [],
   "source": [
    "def sentiment(año):\n",
    "    import itertools\n",
    "    _df = pd.DataFrame(pd.read_csv(\"./csv to functions/sentiments.csv\"))\n",
    "    lines = _df[_df['release_date'].str.contains(año, case= False, na= False)]\n",
    "\n",
    "    dict_sentimientos = {}\n",
    "    for registro in lines['sentiment']:\n",
    "        dict_sentimientos[f'{registro}'] = 0\n",
    "\n",
    "    for registro in lines['sentiment']:\n",
    "        dict_sentimientos[f'{registro}'] += 1\n",
    "\n",
    "    dicc = dict(sorted(dict_sentimientos.items(), key= lambda item: item[1], reverse= True))\n",
    "    df_ = pd.DataFrame(data=dicc.values(), index= dicc.keys()).reset_index(drop= False)\n",
    "    dicc2 = df_[df_['index'].str.contains(\"tive\", na= False)]\n",
    "    return dict(dicc2.head().values)"
   ]
  },
  {
   "cell_type": "code",
   "execution_count": 118,
   "metadata": {},
   "outputs": [
    {
     "data": {
      "text/plain": [
       "{'Very Positive': 102,\n",
       " 'Mostly Positive': 55,\n",
       " 'Positive': 28,\n",
       " 'Mostly Negative': 22,\n",
       " 'Overwhelmingly Positive': 14}"
      ]
     },
     "execution_count": 118,
     "metadata": {},
     "output_type": "execute_result"
    }
   ],
   "source": [
    "sentiment(\"2010\")"
   ]
  },
  {
   "cell_type": "code",
   "execution_count": 38,
   "metadata": {},
   "outputs": [],
   "source": [
    "def metascores(año):\n",
    "    _df = pd.DataFrame(pd.read_csv(\"./csv to functions/metascore.csv\"))\n",
    "\n",
    "    _df = _df[_df['release_date'].str.contains(año, case= False, na= False)]\n",
    "    _df.sort_values('metascore', ascending=False, inplace= True)\n",
    "    _df.drop(columns= 'release_date', inplace= True)\n",
    "    if _df.iloc[0,1] != int:\n",
    "        return {}\n",
    "    return dict(_df.head(6).values)"
   ]
  },
  {
   "cell_type": "code",
   "execution_count": 40,
   "metadata": {},
   "outputs": [],
   "source": [
    "from functions import metascore as mt"
   ]
  },
  {
   "cell_type": "code",
   "execution_count": 34,
   "metadata": {},
   "outputs": [],
   "source": [
    "from main import metascore_puntuación as mt_p"
   ]
  },
  {
   "cell_type": "code",
   "execution_count": 36,
   "metadata": {},
   "outputs": [
    {
     "data": {
      "text/plain": [
       "{'Lost Summoner Kitty': nan,\n",
       " 'Ironbound': nan,\n",
       " 'Battle Royale Trainer': nan,\n",
       " 'SNOW - All Access Basic Pass': nan,\n",
       " 'SNOW - All Access Pro Pass': nan}"
      ]
     },
     "execution_count": 36,
     "metadata": {},
     "output_type": "execute_result"
    }
   ],
   "source": [
    "mt(\"2018\")"
   ]
  },
  {
   "cell_type": "code",
   "execution_count": 12,
   "metadata": {},
   "outputs": [
    {
     "data": {
      "text/plain": [
       "{'Lost Summoner Kitty': nan,\n",
       " 'Ironbound': nan,\n",
       " 'Battle Royale Trainer': nan,\n",
       " 'SNOW - All Access Basic Pass': nan,\n",
       " 'SNOW - All Access Pro Pass': nan}"
      ]
     },
     "execution_count": 12,
     "metadata": {},
     "output_type": "execute_result"
    }
   ],
   "source": [
    "mt_p(\"2018\")"
   ]
  },
  {
   "cell_type": "code",
   "execution_count": 26,
   "metadata": {},
   "outputs": [
    {
     "data": {
      "text/plain": [
       "nan"
      ]
     },
     "execution_count": 26,
     "metadata": {},
     "output_type": "execute_result"
    }
   ],
   "source": [
    "_df = pd.DataFrame(pd.read_csv(\"./csv to functions/metascore.csv\"))\n",
    "\n",
    "_df = _df[_df['release_date'].str.contains(\"2018\", case= False, na= False)]\n",
    "_df.sort_values('metascore', ascending=False, inplace= True)\n",
    "# _df.drop(columns= 'release_date', inplace= True)\n",
    "_df.iloc[0,2]"
   ]
  },
  {
   "cell_type": "code",
   "execution_count": 39,
   "metadata": {},
   "outputs": [
    {
     "data": {
      "text/plain": [
       "{}"
      ]
     },
     "execution_count": 39,
     "metadata": {},
     "output_type": "execute_result"
    }
   ],
   "source": [
    "metascores(\"2018\")"
   ]
  }
 ],
 "metadata": {
  "kernelspec": {
   "display_name": "mlops",
   "language": "python",
   "name": "python3"
  },
  "language_info": {
   "codemirror_mode": {
    "name": "ipython",
    "version": 3
   },
   "file_extension": ".py",
   "mimetype": "text/x-python",
   "name": "python",
   "nbconvert_exporter": "python",
   "pygments_lexer": "ipython3",
   "version": "3.11.4"
  },
  "orig_nbformat": 4
 },
 "nbformat": 4,
 "nbformat_minor": 2
}
