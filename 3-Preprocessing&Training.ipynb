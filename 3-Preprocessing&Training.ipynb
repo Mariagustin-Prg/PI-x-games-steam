{
 "cells": [
  {
   "cell_type": "code",
   "execution_count": 180,
   "metadata": {},
   "outputs": [],
   "source": [
    "# Importamos las librerías necesarias para nuestro proyecto. \n",
    "import pandas as pd\n",
    "import numpy as np\n",
    "import warnings\n",
    "warnings.filterwarnings('ignore')\n",
    "# Más adelante en el notebook importaremos nuevamente librerías. \n",
    "# Pero con enfoque en el preprocesamiento, creación y entrenamiento del modelo."
   ]
  },
  {
   "cell_type": "code",
   "execution_count": 181,
   "metadata": {},
   "outputs": [
    {
     "data": {
      "text/html": [
       "<div>\n",
       "<style scoped>\n",
       "    .dataframe tbody tr th:only-of-type {\n",
       "        vertical-align: middle;\n",
       "    }\n",
       "\n",
       "    .dataframe tbody tr th {\n",
       "        vertical-align: top;\n",
       "    }\n",
       "\n",
       "    .dataframe thead th {\n",
       "        text-align: right;\n",
       "    }\n",
       "</style>\n",
       "<table border=\"1\" class=\"dataframe\">\n",
       "  <thead>\n",
       "    <tr style=\"text-align: right;\">\n",
       "      <th></th>\n",
       "      <th>publisher</th>\n",
       "      <th>genres</th>\n",
       "      <th>app_name</th>\n",
       "      <th>title</th>\n",
       "      <th>url</th>\n",
       "      <th>release_date</th>\n",
       "      <th>tags</th>\n",
       "      <th>discount_price</th>\n",
       "      <th>reviews_url</th>\n",
       "      <th>specs</th>\n",
       "      <th>price</th>\n",
       "      <th>early_access</th>\n",
       "      <th>id</th>\n",
       "      <th>developer</th>\n",
       "      <th>sentiment</th>\n",
       "      <th>metascore</th>\n",
       "    </tr>\n",
       "  </thead>\n",
       "  <tbody>\n",
       "    <tr>\n",
       "      <th>31831</th>\n",
       "      <td>NaN</td>\n",
       "      <td>[]</td>\n",
       "      <td>Maze Run VR</td>\n",
       "      <td>NaN</td>\n",
       "      <td>http://store.steampowered.com/app/681550/Maze_...</td>\n",
       "      <td>NaN</td>\n",
       "      <td>['Early Access', 'Adventure', 'Indie', 'Action...</td>\n",
       "      <td>NaN</td>\n",
       "      <td>http://steamcommunity.com/app/681550/reviews/?...</td>\n",
       "      <td>['Single-player', 'Stats', 'Steam Leaderboards...</td>\n",
       "      <td>4.99</td>\n",
       "      <td>True</td>\n",
       "      <td>681550.0</td>\n",
       "      <td>NaN</td>\n",
       "      <td>Positive</td>\n",
       "      <td>NaN</td>\n",
       "    </tr>\n",
       "  </tbody>\n",
       "</table>\n",
       "</div>"
      ],
      "text/plain": [
       "      publisher genres     app_name title  \\\n",
       "31831       NaN     []  Maze Run VR   NaN   \n",
       "\n",
       "                                                     url release_date  \\\n",
       "31831  http://store.steampowered.com/app/681550/Maze_...          NaN   \n",
       "\n",
       "                                                    tags  discount_price  \\\n",
       "31831  ['Early Access', 'Adventure', 'Indie', 'Action...             NaN   \n",
       "\n",
       "                                             reviews_url  \\\n",
       "31831  http://steamcommunity.com/app/681550/reviews/?...   \n",
       "\n",
       "                                                   specs  price  early_access  \\\n",
       "31831  ['Single-player', 'Stats', 'Steam Leaderboards...   4.99          True   \n",
       "\n",
       "             id developer sentiment  metascore  \n",
       "31831  681550.0       NaN  Positive        NaN  "
      ]
     },
     "execution_count": 181,
     "metadata": {},
     "output_type": "execute_result"
    }
   ],
   "source": [
    "# Abrimos el dataset con los juegos y mostramos el último registro.\n",
    "df = pd.read_csv(\"without_outliers.csv\")\n",
    "df.tail(1)"
   ]
  },
  {
   "cell_type": "code",
   "execution_count": 182,
   "metadata": {},
   "outputs": [],
   "source": [
    "# Creamos una máscara binaria para mostrar los valores nulos.\n",
    "mask = df.isna()\n",
    "# Creamos un bucle que ennumere e itere en la máscara y haga las suma de cantidad de valores nulos que tiene cada registro.\n",
    "for i, n in enumerate(mask.sum(axis=1)):\n",
    "    # Si el número de valores nulos es mayor a 6:\n",
    "    if n > 6:\n",
    "        # Eliminamos el registro.\n",
    "        df.drop(i, axis= 0, inplace= True)"
   ]
  },
  {
   "cell_type": "code",
   "execution_count": 183,
   "metadata": {},
   "outputs": [
    {
     "data": {
      "text/plain": [
       "Index(['publisher', 'genres', 'app_name', 'title', 'url', 'release_date',\n",
       "       'tags', 'discount_price', 'reviews_url', 'specs', 'price',\n",
       "       'early_access', 'id', 'developer', 'sentiment', 'metascore'],\n",
       "      dtype='object')"
      ]
     },
     "execution_count": 183,
     "metadata": {},
     "output_type": "execute_result"
    }
   ],
   "source": [
    "# Veamos la columnas y decidamos cuales utilizaremos para el modelo.\n",
    "df.columns"
   ]
  },
  {
   "cell_type": "code",
   "execution_count": 184,
   "metadata": {},
   "outputs": [
    {
     "data": {
      "text/html": [
       "<div>\n",
       "<style scoped>\n",
       "    .dataframe tbody tr th:only-of-type {\n",
       "        vertical-align: middle;\n",
       "    }\n",
       "\n",
       "    .dataframe tbody tr th {\n",
       "        vertical-align: top;\n",
       "    }\n",
       "\n",
       "    .dataframe thead th {\n",
       "        text-align: right;\n",
       "    }\n",
       "</style>\n",
       "<table border=\"1\" class=\"dataframe\">\n",
       "  <thead>\n",
       "    <tr style=\"text-align: right;\">\n",
       "      <th></th>\n",
       "      <th>price</th>\n",
       "      <th>genres</th>\n",
       "      <th>early_access</th>\n",
       "      <th>tags</th>\n",
       "      <th>metascore</th>\n",
       "      <th>specs</th>\n",
       "    </tr>\n",
       "  </thead>\n",
       "  <tbody>\n",
       "    <tr>\n",
       "      <th>0</th>\n",
       "      <td>4.99</td>\n",
       "      <td>['Action', 'Casual', 'Indie', 'Simulation', 'S...</td>\n",
       "      <td>False</td>\n",
       "      <td>['Strategy', 'Action', 'Indie', 'Casual', 'Sim...</td>\n",
       "      <td>NaN</td>\n",
       "      <td>['Single-player']</td>\n",
       "    </tr>\n",
       "    <tr>\n",
       "      <th>1</th>\n",
       "      <td>0.00</td>\n",
       "      <td>['Free to Play', 'Indie', 'RPG', 'Strategy']</td>\n",
       "      <td>False</td>\n",
       "      <td>['Free to Play', 'Strategy', 'Indie', 'RPG', '...</td>\n",
       "      <td>NaN</td>\n",
       "      <td>['Single-player', 'Multi-player', 'Online Mult...</td>\n",
       "    </tr>\n",
       "    <tr>\n",
       "      <th>2</th>\n",
       "      <td>0.00</td>\n",
       "      <td>['Casual', 'Free to Play', 'Indie', 'Simulatio...</td>\n",
       "      <td>False</td>\n",
       "      <td>['Free to Play', 'Simulation', 'Sports', 'Casu...</td>\n",
       "      <td>NaN</td>\n",
       "      <td>['Single-player', 'Multi-player', 'Online Mult...</td>\n",
       "    </tr>\n",
       "    <tr>\n",
       "      <th>3</th>\n",
       "      <td>0.99</td>\n",
       "      <td>['Action', 'Adventure', 'Casual']</td>\n",
       "      <td>False</td>\n",
       "      <td>['Action', 'Adventure', 'Casual']</td>\n",
       "      <td>NaN</td>\n",
       "      <td>['Single-player']</td>\n",
       "    </tr>\n",
       "    <tr>\n",
       "      <th>4</th>\n",
       "      <td>2.99</td>\n",
       "      <td>[]</td>\n",
       "      <td>False</td>\n",
       "      <td>['Action', 'Indie', 'Casual', 'Sports']</td>\n",
       "      <td>NaN</td>\n",
       "      <td>['Single-player', 'Full controller support', '...</td>\n",
       "    </tr>\n",
       "    <tr>\n",
       "      <th>5</th>\n",
       "      <td>3.99</td>\n",
       "      <td>['Action', 'Adventure', 'Simulation']</td>\n",
       "      <td>False</td>\n",
       "      <td>['Action', 'Adventure', 'Simulation', 'FPS', '...</td>\n",
       "      <td>NaN</td>\n",
       "      <td>['Single-player', 'Steam Achievements']</td>\n",
       "    </tr>\n",
       "    <tr>\n",
       "      <th>6</th>\n",
       "      <td>9.99</td>\n",
       "      <td>['Free to Play', 'Indie', 'Simulation', 'Sports']</td>\n",
       "      <td>False</td>\n",
       "      <td>['Free to Play', 'Indie', 'Simulation', 'Sports']</td>\n",
       "      <td>NaN</td>\n",
       "      <td>['Single-player', 'Multi-player', 'Online Mult...</td>\n",
       "    </tr>\n",
       "    <tr>\n",
       "      <th>7</th>\n",
       "      <td>18.99</td>\n",
       "      <td>['Free to Play', 'Indie', 'Simulation', 'Sports']</td>\n",
       "      <td>False</td>\n",
       "      <td>['Free to Play', 'Indie', 'Simulation', 'Sports']</td>\n",
       "      <td>NaN</td>\n",
       "      <td>['Single-player', 'Multi-player', 'Online Mult...</td>\n",
       "    </tr>\n",
       "    <tr>\n",
       "      <th>8</th>\n",
       "      <td>29.99</td>\n",
       "      <td>['Free to Play', 'Indie', 'Simulation', 'Sports']</td>\n",
       "      <td>False</td>\n",
       "      <td>['Free to Play', 'Indie', 'Simulation', 'Sports']</td>\n",
       "      <td>NaN</td>\n",
       "      <td>['Single-player', 'Multi-player', 'Online Mult...</td>\n",
       "    </tr>\n",
       "    <tr>\n",
       "      <th>9</th>\n",
       "      <td>NaN</td>\n",
       "      <td>['Casual', 'Indie', 'Racing', 'Simulation']</td>\n",
       "      <td>False</td>\n",
       "      <td>['Indie', 'Casual', 'Simulation', 'Racing']</td>\n",
       "      <td>NaN</td>\n",
       "      <td>['Single-player', 'Multi-player', 'Partial Con...</td>\n",
       "    </tr>\n",
       "  </tbody>\n",
       "</table>\n",
       "</div>"
      ],
      "text/plain": [
       "   price                                             genres  early_access  \\\n",
       "0   4.99  ['Action', 'Casual', 'Indie', 'Simulation', 'S...         False   \n",
       "1   0.00       ['Free to Play', 'Indie', 'RPG', 'Strategy']         False   \n",
       "2   0.00  ['Casual', 'Free to Play', 'Indie', 'Simulatio...         False   \n",
       "3   0.99                  ['Action', 'Adventure', 'Casual']         False   \n",
       "4   2.99                                                 []         False   \n",
       "5   3.99              ['Action', 'Adventure', 'Simulation']         False   \n",
       "6   9.99  ['Free to Play', 'Indie', 'Simulation', 'Sports']         False   \n",
       "7  18.99  ['Free to Play', 'Indie', 'Simulation', 'Sports']         False   \n",
       "8  29.99  ['Free to Play', 'Indie', 'Simulation', 'Sports']         False   \n",
       "9    NaN        ['Casual', 'Indie', 'Racing', 'Simulation']         False   \n",
       "\n",
       "                                                tags  metascore  \\\n",
       "0  ['Strategy', 'Action', 'Indie', 'Casual', 'Sim...        NaN   \n",
       "1  ['Free to Play', 'Strategy', 'Indie', 'RPG', '...        NaN   \n",
       "2  ['Free to Play', 'Simulation', 'Sports', 'Casu...        NaN   \n",
       "3                  ['Action', 'Adventure', 'Casual']        NaN   \n",
       "4            ['Action', 'Indie', 'Casual', 'Sports']        NaN   \n",
       "5  ['Action', 'Adventure', 'Simulation', 'FPS', '...        NaN   \n",
       "6  ['Free to Play', 'Indie', 'Simulation', 'Sports']        NaN   \n",
       "7  ['Free to Play', 'Indie', 'Simulation', 'Sports']        NaN   \n",
       "8  ['Free to Play', 'Indie', 'Simulation', 'Sports']        NaN   \n",
       "9        ['Indie', 'Casual', 'Simulation', 'Racing']        NaN   \n",
       "\n",
       "                                               specs  \n",
       "0                                  ['Single-player']  \n",
       "1  ['Single-player', 'Multi-player', 'Online Mult...  \n",
       "2  ['Single-player', 'Multi-player', 'Online Mult...  \n",
       "3                                  ['Single-player']  \n",
       "4  ['Single-player', 'Full controller support', '...  \n",
       "5            ['Single-player', 'Steam Achievements']  \n",
       "6  ['Single-player', 'Multi-player', 'Online Mult...  \n",
       "7  ['Single-player', 'Multi-player', 'Online Mult...  \n",
       "8  ['Single-player', 'Multi-player', 'Online Mult...  \n",
       "9  ['Single-player', 'Multi-player', 'Partial Con...  "
      ]
     },
     "execution_count": 184,
     "metadata": {},
     "output_type": "execute_result"
    }
   ],
   "source": [
    "# Elegimos las siguientes y las separamos en un nuevo dataset.\n",
    "to_processing = df[[ 'price','genres', 'early_access', 'tags', 'metascore', 'specs']].reset_index(drop= True)\n",
    "# Veamos los primeros registros del nuevo dataset.\n",
    "to_processing.head(10)"
   ]
  },
  {
   "cell_type": "code",
   "execution_count": 185,
   "metadata": {},
   "outputs": [],
   "source": [
    "# Aplicamos las transfomraciones a las columnas que poseen cadenas string, teniendo que ser, en realidad, listas.\n",
    "import ast"
   ]
  },
  {
   "cell_type": "code",
   "execution_count": 186,
   "metadata": {},
   "outputs": [],
   "source": [
    "# Transformamos primero, y en orden, la columna genres.\n",
    "to_processing['genres'] = to_processing['genres'].apply(lambda x: ast.literal_eval(x) if type(x) is str else [\"nan\"])\n",
    "# Le aplicamos a la columna una función lambda que devuelve una lista, si el dato está en formato string, de lo contrario le damos\n",
    "# la instrucción para que devuelva un NaN."
   ]
  },
  {
   "cell_type": "code",
   "execution_count": 187,
   "metadata": {},
   "outputs": [],
   "source": [
    "# Procedemos con las siguientes columnas. \n",
    "to_processing['tags'] = to_processing['tags'].apply(lambda x: ast.literal_eval(x) if type(x) is str else [\"nan\"])\n",
    "to_processing['specs'] = to_processing['specs'].apply(lambda x: ast.literal_eval(x) if type(x) is str else [\"nan\"])"
   ]
  },
  {
   "cell_type": "code",
   "execution_count": 188,
   "metadata": {},
   "outputs": [
    {
     "data": {
      "text/plain": [
       "[['Action', 'Casual', 'Indie', 'Simulation', 'Strategy'],\n",
       " False,\n",
       " ['Strategy', 'Action', 'Indie', 'Casual', 'Simulation'],\n",
       " nan,\n",
       " ['Single-player']]"
      ]
     },
     "execution_count": 188,
     "metadata": {},
     "output_type": "execute_result"
    }
   ],
   "source": [
    "list(to_processing.iloc[0,1:])"
   ]
  },
  {
   "cell_type": "code",
   "execution_count": 189,
   "metadata": {},
   "outputs": [],
   "source": [
    "# Hacemos otras transformaciones que utilizaremos en el entrenamiento del modelo.\n",
    "to_processing['genres'] = to_processing['genres'].apply(lambda x: \" | \".join(x))\n",
    "\n",
    "to_processing['price'] = to_processing['price'].fillna(float(\"0.00\"))\n",
    "\n",
    "to_processing['tags'] = to_processing['tags'].apply(lambda x: \" | \".join(x))\n",
    "to_processing['specs'] = to_processing['specs'].apply(lambda x: \" | \".join(x))\n",
    "\n",
    "to_processing['metascore'] = to_processing['metascore'].apply(lambda x: str(x))\n",
    "to_processing['metascore'] = to_processing['metascore'].str.replace(\"nan\", \"78.8\")\n",
    "\n",
    "to_processing['early_access'] = to_processing['early_access'].apply(lambda x: str(x))"
   ]
  },
  {
   "cell_type": "code",
   "execution_count": 190,
   "metadata": {},
   "outputs": [],
   "source": [
    "# Declaramos los valores que utilizaremos para enternar el modelo\n",
    "values = list(to_processing[['genres', 'metascore', 'tags', 'early_access']].values)\n",
    "proc_df = pd.DataFrame(data= [to_processing['price'].values, values], index= [\"price\", 'values'])\n",
    "proc_df = proc_df.T \n",
    "proc_df['values'] = proc_df['values'].apply(lambda x: \" / \".join(x))"
   ]
  },
  {
   "cell_type": "code",
   "execution_count": 203,
   "metadata": {},
   "outputs": [],
   "source": [
    "proc_df.to_json(\"processed_data.json\")"
   ]
  },
  {
   "cell_type": "code",
   "execution_count": 191,
   "metadata": {},
   "outputs": [],
   "source": [
    "# Importamos las librerías de scikit-learn que utilizaremos en este proyecto.\n",
    "from sklearn.preprocessing import OneHotEncoder, LabelEncoder\n",
    "from sklearn.model_selection import train_test_split\n",
    "from sklearn.linear_model import LinearRegression, Ridge, Lasso\n",
    "from sklearn.metrics import mean_squared_error, mean_absolute_error, r2_score"
   ]
  },
  {
   "cell_type": "code",
   "execution_count": 192,
   "metadata": {},
   "outputs": [],
   "source": [
    "# Creamos el preprocesador de los datos\n",
    "encoder = OneHotEncoder(handle_unknown='ignore')"
   ]
  },
  {
   "cell_type": "code",
   "execution_count": 193,
   "metadata": {},
   "outputs": [],
   "source": [
    "# Entrenamos y trnasformamos los datos que separamos anteriormente.\n",
    "values_encoded = encoder.fit_transform(proc_df['values'].values.reshape(-1,1))\n",
    "# Obtenemos el array con los precios.\n",
    "price_array = proc_df['price'].values.reshape(-1,1)"
   ]
  },
  {
   "cell_type": "code",
   "execution_count": 194,
   "metadata": {},
   "outputs": [],
   "source": [
    "# Sepramos los datos ne datos de entrenamiento y de testeo\n",
    "X_train, X_test, y_train, y_test = train_test_split(values_encoded, price_array, test_size= 0.2, random_state= 42)"
   ]
  },
  {
   "cell_type": "code",
   "execution_count": 195,
   "metadata": {},
   "outputs": [],
   "source": [
    "# Creamos el modelo Lasso\n",
    "model_Lasso = Lasso(alpha= 0.025)"
   ]
  },
  {
   "cell_type": "code",
   "execution_count": 196,
   "metadata": {},
   "outputs": [
    {
     "data": {
      "text/html": [
       "<style>#sk-container-id-14 {color: black;}#sk-container-id-14 pre{padding: 0;}#sk-container-id-14 div.sk-toggleable {background-color: white;}#sk-container-id-14 label.sk-toggleable__label {cursor: pointer;display: block;width: 100%;margin-bottom: 0;padding: 0.3em;box-sizing: border-box;text-align: center;}#sk-container-id-14 label.sk-toggleable__label-arrow:before {content: \"▸\";float: left;margin-right: 0.25em;color: #696969;}#sk-container-id-14 label.sk-toggleable__label-arrow:hover:before {color: black;}#sk-container-id-14 div.sk-estimator:hover label.sk-toggleable__label-arrow:before {color: black;}#sk-container-id-14 div.sk-toggleable__content {max-height: 0;max-width: 0;overflow: hidden;text-align: left;background-color: #f0f8ff;}#sk-container-id-14 div.sk-toggleable__content pre {margin: 0.2em;color: black;border-radius: 0.25em;background-color: #f0f8ff;}#sk-container-id-14 input.sk-toggleable__control:checked~div.sk-toggleable__content {max-height: 200px;max-width: 100%;overflow: auto;}#sk-container-id-14 input.sk-toggleable__control:checked~label.sk-toggleable__label-arrow:before {content: \"▾\";}#sk-container-id-14 div.sk-estimator input.sk-toggleable__control:checked~label.sk-toggleable__label {background-color: #d4ebff;}#sk-container-id-14 div.sk-label input.sk-toggleable__control:checked~label.sk-toggleable__label {background-color: #d4ebff;}#sk-container-id-14 input.sk-hidden--visually {border: 0;clip: rect(1px 1px 1px 1px);clip: rect(1px, 1px, 1px, 1px);height: 1px;margin: -1px;overflow: hidden;padding: 0;position: absolute;width: 1px;}#sk-container-id-14 div.sk-estimator {font-family: monospace;background-color: #f0f8ff;border: 1px dotted black;border-radius: 0.25em;box-sizing: border-box;margin-bottom: 0.5em;}#sk-container-id-14 div.sk-estimator:hover {background-color: #d4ebff;}#sk-container-id-14 div.sk-parallel-item::after {content: \"\";width: 100%;border-bottom: 1px solid gray;flex-grow: 1;}#sk-container-id-14 div.sk-label:hover label.sk-toggleable__label {background-color: #d4ebff;}#sk-container-id-14 div.sk-serial::before {content: \"\";position: absolute;border-left: 1px solid gray;box-sizing: border-box;top: 0;bottom: 0;left: 50%;z-index: 0;}#sk-container-id-14 div.sk-serial {display: flex;flex-direction: column;align-items: center;background-color: white;padding-right: 0.2em;padding-left: 0.2em;position: relative;}#sk-container-id-14 div.sk-item {position: relative;z-index: 1;}#sk-container-id-14 div.sk-parallel {display: flex;align-items: stretch;justify-content: center;background-color: white;position: relative;}#sk-container-id-14 div.sk-item::before, #sk-container-id-14 div.sk-parallel-item::before {content: \"\";position: absolute;border-left: 1px solid gray;box-sizing: border-box;top: 0;bottom: 0;left: 50%;z-index: -1;}#sk-container-id-14 div.sk-parallel-item {display: flex;flex-direction: column;z-index: 1;position: relative;background-color: white;}#sk-container-id-14 div.sk-parallel-item:first-child::after {align-self: flex-end;width: 50%;}#sk-container-id-14 div.sk-parallel-item:last-child::after {align-self: flex-start;width: 50%;}#sk-container-id-14 div.sk-parallel-item:only-child::after {width: 0;}#sk-container-id-14 div.sk-dashed-wrapped {border: 1px dashed gray;margin: 0 0.4em 0.5em 0.4em;box-sizing: border-box;padding-bottom: 0.4em;background-color: white;}#sk-container-id-14 div.sk-label label {font-family: monospace;font-weight: bold;display: inline-block;line-height: 1.2em;}#sk-container-id-14 div.sk-label-container {text-align: center;}#sk-container-id-14 div.sk-container {/* jupyter's `normalize.less` sets `[hidden] { display: none; }` but bootstrap.min.css set `[hidden] { display: none !important; }` so we also need the `!important` here to be able to override the default hidden behavior on the sphinx rendered scikit-learn.org. See: https://github.com/scikit-learn/scikit-learn/issues/21755 */display: inline-block !important;position: relative;}#sk-container-id-14 div.sk-text-repr-fallback {display: none;}</style><div id=\"sk-container-id-14\" class=\"sk-top-container\"><div class=\"sk-text-repr-fallback\"><pre>Lasso(alpha=0.025)</pre><b>In a Jupyter environment, please rerun this cell to show the HTML representation or trust the notebook. <br />On GitHub, the HTML representation is unable to render, please try loading this page with nbviewer.org.</b></div><div class=\"sk-container\" hidden><div class=\"sk-item\"><div class=\"sk-estimator sk-toggleable\"><input class=\"sk-toggleable__control sk-hidden--visually\" id=\"sk-estimator-id-14\" type=\"checkbox\" checked><label for=\"sk-estimator-id-14\" class=\"sk-toggleable__label sk-toggleable__label-arrow\">Lasso</label><div class=\"sk-toggleable__content\"><pre>Lasso(alpha=0.025)</pre></div></div></div></div></div>"
      ],
      "text/plain": [
       "Lasso(alpha=0.025)"
      ]
     },
     "execution_count": 196,
     "metadata": {},
     "output_type": "execute_result"
    }
   ],
   "source": [
    "# Lo entrenamos\n",
    "model_Lasso.fit(X_train, y_train)"
   ]
  },
  {
   "cell_type": "code",
   "execution_count": 197,
   "metadata": {},
   "outputs": [],
   "source": [
    "# Testeamos\n",
    "y_pred = model_Lasso.predict(X_test)"
   ]
  },
  {
   "cell_type": "code",
   "execution_count": 198,
   "metadata": {},
   "outputs": [
    {
     "data": {
      "text/plain": [
       "63.067728253862974"
      ]
     },
     "execution_count": 198,
     "metadata": {},
     "output_type": "execute_result"
    }
   ],
   "source": [
    "# Obtenemos el error cuadrático medio\n",
    "mse = mean_squared_error(y_pred, y_test)\n",
    "mse"
   ]
  },
  {
   "cell_type": "code",
   "execution_count": 199,
   "metadata": {},
   "outputs": [
    {
     "data": {
      "text/plain": [
       "array([7.66452053])"
      ]
     },
     "execution_count": 199,
     "metadata": {},
     "output_type": "execute_result"
    }
   ],
   "source": [
    "# Realizamos una predicción, lo codificamos con el encoder y precedimos un precio.\n",
    "to_predict = np.array(\"Indie | 80 | True\").reshape(-1,1)\n",
    "to_predict_enc = encoder.transform(to_predict)\n",
    "model_Lasso.predict(to_predict_enc)"
   ]
  },
  {
   "cell_type": "code",
   "execution_count": 200,
   "metadata": {},
   "outputs": [],
   "source": [
    "model_ridge = Ridge(alpha= 0.75)"
   ]
  },
  {
   "cell_type": "code",
   "execution_count": 201,
   "metadata": {},
   "outputs": [
    {
     "data": {
      "text/html": [
       "<style>#sk-container-id-15 {color: black;}#sk-container-id-15 pre{padding: 0;}#sk-container-id-15 div.sk-toggleable {background-color: white;}#sk-container-id-15 label.sk-toggleable__label {cursor: pointer;display: block;width: 100%;margin-bottom: 0;padding: 0.3em;box-sizing: border-box;text-align: center;}#sk-container-id-15 label.sk-toggleable__label-arrow:before {content: \"▸\";float: left;margin-right: 0.25em;color: #696969;}#sk-container-id-15 label.sk-toggleable__label-arrow:hover:before {color: black;}#sk-container-id-15 div.sk-estimator:hover label.sk-toggleable__label-arrow:before {color: black;}#sk-container-id-15 div.sk-toggleable__content {max-height: 0;max-width: 0;overflow: hidden;text-align: left;background-color: #f0f8ff;}#sk-container-id-15 div.sk-toggleable__content pre {margin: 0.2em;color: black;border-radius: 0.25em;background-color: #f0f8ff;}#sk-container-id-15 input.sk-toggleable__control:checked~div.sk-toggleable__content {max-height: 200px;max-width: 100%;overflow: auto;}#sk-container-id-15 input.sk-toggleable__control:checked~label.sk-toggleable__label-arrow:before {content: \"▾\";}#sk-container-id-15 div.sk-estimator input.sk-toggleable__control:checked~label.sk-toggleable__label {background-color: #d4ebff;}#sk-container-id-15 div.sk-label input.sk-toggleable__control:checked~label.sk-toggleable__label {background-color: #d4ebff;}#sk-container-id-15 input.sk-hidden--visually {border: 0;clip: rect(1px 1px 1px 1px);clip: rect(1px, 1px, 1px, 1px);height: 1px;margin: -1px;overflow: hidden;padding: 0;position: absolute;width: 1px;}#sk-container-id-15 div.sk-estimator {font-family: monospace;background-color: #f0f8ff;border: 1px dotted black;border-radius: 0.25em;box-sizing: border-box;margin-bottom: 0.5em;}#sk-container-id-15 div.sk-estimator:hover {background-color: #d4ebff;}#sk-container-id-15 div.sk-parallel-item::after {content: \"\";width: 100%;border-bottom: 1px solid gray;flex-grow: 1;}#sk-container-id-15 div.sk-label:hover label.sk-toggleable__label {background-color: #d4ebff;}#sk-container-id-15 div.sk-serial::before {content: \"\";position: absolute;border-left: 1px solid gray;box-sizing: border-box;top: 0;bottom: 0;left: 50%;z-index: 0;}#sk-container-id-15 div.sk-serial {display: flex;flex-direction: column;align-items: center;background-color: white;padding-right: 0.2em;padding-left: 0.2em;position: relative;}#sk-container-id-15 div.sk-item {position: relative;z-index: 1;}#sk-container-id-15 div.sk-parallel {display: flex;align-items: stretch;justify-content: center;background-color: white;position: relative;}#sk-container-id-15 div.sk-item::before, #sk-container-id-15 div.sk-parallel-item::before {content: \"\";position: absolute;border-left: 1px solid gray;box-sizing: border-box;top: 0;bottom: 0;left: 50%;z-index: -1;}#sk-container-id-15 div.sk-parallel-item {display: flex;flex-direction: column;z-index: 1;position: relative;background-color: white;}#sk-container-id-15 div.sk-parallel-item:first-child::after {align-self: flex-end;width: 50%;}#sk-container-id-15 div.sk-parallel-item:last-child::after {align-self: flex-start;width: 50%;}#sk-container-id-15 div.sk-parallel-item:only-child::after {width: 0;}#sk-container-id-15 div.sk-dashed-wrapped {border: 1px dashed gray;margin: 0 0.4em 0.5em 0.4em;box-sizing: border-box;padding-bottom: 0.4em;background-color: white;}#sk-container-id-15 div.sk-label label {font-family: monospace;font-weight: bold;display: inline-block;line-height: 1.2em;}#sk-container-id-15 div.sk-label-container {text-align: center;}#sk-container-id-15 div.sk-container {/* jupyter's `normalize.less` sets `[hidden] { display: none; }` but bootstrap.min.css set `[hidden] { display: none !important; }` so we also need the `!important` here to be able to override the default hidden behavior on the sphinx rendered scikit-learn.org. See: https://github.com/scikit-learn/scikit-learn/issues/21755 */display: inline-block !important;position: relative;}#sk-container-id-15 div.sk-text-repr-fallback {display: none;}</style><div id=\"sk-container-id-15\" class=\"sk-top-container\"><div class=\"sk-text-repr-fallback\"><pre>Ridge(alpha=0.75)</pre><b>In a Jupyter environment, please rerun this cell to show the HTML representation or trust the notebook. <br />On GitHub, the HTML representation is unable to render, please try loading this page with nbviewer.org.</b></div><div class=\"sk-container\" hidden><div class=\"sk-item\"><div class=\"sk-estimator sk-toggleable\"><input class=\"sk-toggleable__control sk-hidden--visually\" id=\"sk-estimator-id-15\" type=\"checkbox\" checked><label for=\"sk-estimator-id-15\" class=\"sk-toggleable__label sk-toggleable__label-arrow\">Ridge</label><div class=\"sk-toggleable__content\"><pre>Ridge(alpha=0.75)</pre></div></div></div></div></div>"
      ],
      "text/plain": [
       "Ridge(alpha=0.75)"
      ]
     },
     "execution_count": 201,
     "metadata": {},
     "output_type": "execute_result"
    }
   ],
   "source": [
    "model_ridge.fit(X_train, y_train)"
   ]
  },
  {
   "cell_type": "code",
   "execution_count": 202,
   "metadata": {},
   "outputs": [
    {
     "data": {
      "text/plain": [
       "55.74165596952672"
      ]
     },
     "execution_count": 202,
     "metadata": {},
     "output_type": "execute_result"
    }
   ],
   "source": [
    "y_pred = model_ridge.predict(X_test)\n",
    "mse = mean_squared_error(y_pred, y_test)\n",
    "mse"
   ]
  },
  {
   "cell_type": "markdown",
   "metadata": {},
   "source": [
    "El resto del modelo, que participa en la api, se encuentra en el archivo **model_trained.py**"
   ]
  },
  {
   "cell_type": "markdown",
   "metadata": {},
   "source": [
    "A continuación verá como el modelo Ridge se desempeña mejor en el resolver el MSE."
   ]
  },
  {
   "cell_type": "code",
   "execution_count": 235,
   "metadata": {},
   "outputs": [
    {
     "name": "stdout",
     "output_type": "stream",
     "text": [
      "55.74165596952672\n"
     ]
    }
   ],
   "source": [
    "df = pd.read_json(\"processed_data.json\")\n",
    "\n",
    "encoder = OneHotEncoder(handle_unknown='ignore')\n",
    "\n",
    "values_encoded = encoder.fit_transform(df['values'].values.reshape(-1,1))\n",
    "price_array = df['price'].values.reshape(-1, 1)\n",
    "\n",
    "# Sepramos los datos ne datos de entrenamiento y de testeo\n",
    "X_train, X_test, y_train, y_test = train_test_split(values_encoded, price_array, test_size= 0.2, random_state= 42)\n",
    "\n",
    "# Creamos el modelo Ridge\n",
    "model_ridge = Ridge(alpha= 0.75)\n",
    "# Lo entrenamos\n",
    "model_ridge.fit(X_train, y_train)\n",
    "# Obtenemos el error cuadrático medio\n",
    "y_pred = model_ridge.predict(X_test)\n",
    "mse = mean_squared_error(y_pred, y_test)\n",
    "print(mse)"
   ]
  }
 ],
 "metadata": {
  "kernelspec": {
   "display_name": "mlops",
   "language": "python",
   "name": "python3"
  },
  "language_info": {
   "codemirror_mode": {
    "name": "ipython",
    "version": 3
   },
   "file_extension": ".py",
   "mimetype": "text/x-python",
   "name": "python",
   "nbconvert_exporter": "python",
   "pygments_lexer": "ipython3",
   "version": "3.11.4"
  },
  "orig_nbformat": 4
 },
 "nbformat": 4,
 "nbformat_minor": 2
}
